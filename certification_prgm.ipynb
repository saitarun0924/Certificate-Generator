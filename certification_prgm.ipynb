{
 "cells": [
  {
   "cell_type": "code",
   "execution_count": 1,
   "metadata": {},
   "outputs": [],
   "source": [
    "# Program to access Excel data, pics and generate Report card of the students in PDF format \n",
    "\n",
    "# importing libraries\n",
    "import pandas as pd\n",
    "import numpy\n",
    "from datetime import timezone\n",
    "from datetime import datetime"
   ]
  },
  {
   "cell_type": "code",
   "execution_count": 2,
   "metadata": {
    "scrolled": true
   },
   "outputs": [],
   "source": [
    "df = pd.read_excel(\"Dummy Data.xlsx\")\n",
    "#print(df.head(6))\n",
    "full_data = []\n",
    "#df.columns"
   ]
  },
  {
   "cell_type": "code",
   "execution_count": 3,
   "metadata": {},
   "outputs": [],
   "source": [
    "# list for round\n",
    "\n",
    "round_df = df['Unnamed: 1']\n",
    "round_dum = round_df.values.tolist()\n",
    "l_round = []\n",
    "\n",
    "for i in range(0,126,25):\n",
    "    l_round.append(round_dum[i])\n",
    "        \n",
    "#print(l_round)\n",
    "full_data.append(l_round)"
   ]
  },
  {
   "cell_type": "code",
   "execution_count": 4,
   "metadata": {},
   "outputs": [],
   "source": [
    "# list for first name \n",
    "\n",
    "fir_name_df = df['Unnamed: 2']\n",
    "firname_dum = fir_name_df.values.tolist()\n",
    "fir_name = []\n",
    "\n",
    "for i in range(0,126,25):\n",
    "    fir_name.append(firname_dum[i])\n",
    "         \n",
    "#print(fir_name)\n",
    "full_data.append(fir_name)"
   ]
  },
  {
   "cell_type": "code",
   "execution_count": 5,
   "metadata": {},
   "outputs": [],
   "source": [
    "# list for last name \n",
    "\n",
    "last_name_df = df['Unnamed: 3']\n",
    "lastname_dum = last_name_df.values.tolist()\n",
    "last_name = []\n",
    "\n",
    "for i in range(0,126,25):\n",
    "    last_name.append(lastname_dum[i])\n",
    "        \n",
    "#print(last_name)\n",
    "full_data.append(last_name)"
   ]
  },
  {
   "cell_type": "code",
   "execution_count": 6,
   "metadata": {},
   "outputs": [],
   "source": [
    "# list for full name \n",
    "\n",
    "f_name_df = df['Unnamed: 4']\n",
    "fname_dum = f_name_df.values.tolist()\n",
    "f_name = []\n",
    "\n",
    "for i in range(0,126,25):\n",
    "    f_name.append(fname_dum[i])\n",
    "        \n",
    "#print(f_name)\n",
    "full_data.append(f_name)"
   ]
  },
  {
   "cell_type": "code",
   "execution_count": 7,
   "metadata": {},
   "outputs": [],
   "source": [
    "# list for registration number\n",
    "\n",
    "reg_df = df['Unnamed: 5']\n",
    "reg_dum = reg_df.values.tolist()\n",
    "reg_name = []\n",
    "\n",
    "for i in range(0,126,25):\n",
    "    reg_name.append(reg_dum[i])\n",
    "        \n",
    "#print(reg_name)\n",
    "full_data.append(reg_name)"
   ]
  },
  {
   "cell_type": "code",
   "execution_count": 8,
   "metadata": {},
   "outputs": [],
   "source": [
    "# list for grade\n",
    "\n",
    "grade_df = df['Unnamed: 6']\n",
    "grade_dum = grade_df.values.tolist()\n",
    "grade_name = []\n",
    "\n",
    "for i in range(0,126,25):\n",
    "    grade_name.append(grade_dum[i])\n",
    "        \n",
    "#print(grade_name)\n",
    "full_data.append(grade_name)"
   ]
  },
  {
   "cell_type": "code",
   "execution_count": 9,
   "metadata": {},
   "outputs": [],
   "source": [
    "# list for school\n",
    "\n",
    "scl_df = df['Unnamed: 7']\n",
    "scl_dum = scl_df.values.tolist()\n",
    "scl_name = []\n",
    "\n",
    "for i in range(0,126,25):\n",
    "    scl_name.append(scl_dum[i])\n",
    "        \n",
    "#print(scl_name)\n",
    "full_data.append(scl_name)"
   ]
  },
  {
   "cell_type": "code",
   "execution_count": 10,
   "metadata": {},
   "outputs": [],
   "source": [
    "# list for gender\n",
    "\n",
    "gen_df = df['Unnamed: 8']\n",
    "gen_dum = gen_df.values.tolist()\n",
    "gen_name = []\n",
    "\n",
    "for i in range(0,126,25):\n",
    "    gen_name.append(gen_dum[i])\n",
    "        \n",
    "#print(gen_name)\n",
    "full_data.append(gen_name)"
   ]
  },
  {
   "cell_type": "code",
   "execution_count": 11,
   "metadata": {},
   "outputs": [],
   "source": [
    "# list for DOB\n",
    "\n",
    "dob_df = df['Unnamed: 9']\n",
    "dob_dum = dob_df.values.tolist()\n",
    "dob_name = []\n",
    "\n",
    "for i in range(0,126,25):\n",
    "    if(i==0):\n",
    "        dob_name.append(dob_dum[i])\n",
    "    else:\n",
    "        dob = dob_dum[i]\n",
    "        dt = dob.replace(tzinfo=timezone.utc).timestamp()\n",
    "        d_obj = datetime.fromtimestamp(dt).strftime('%m/%d/%Y')\n",
    "        dob_name.append(d_obj)\n",
    "    \n",
    "#print(dob_name)\n",
    "full_data.append(dob_name)"
   ]
  },
  {
   "cell_type": "code",
   "execution_count": 12,
   "metadata": {},
   "outputs": [],
   "source": [
    "# list for city\n",
    "\n",
    "city_df = df['Unnamed: 10']\n",
    "city_dum = city_df.values.tolist()\n",
    "city_name = []\n",
    "\n",
    "for i in range(0,126,25):\n",
    "    city_name.append(city_dum[i])\n",
    "        \n",
    "#print(city_name)\n",
    "full_data.append(city_name)"
   ]
  },
  {
   "cell_type": "code",
   "execution_count": 13,
   "metadata": {},
   "outputs": [],
   "source": [
    "# list for DOT\n",
    "\n",
    "dot_df = df['Unnamed: 11']\n",
    "dot_dum = dot_df.values.tolist()\n",
    "dot_name = []\n",
    "\n",
    "for i in range(0,126,25):\n",
    "    dot_name.append(dot_dum[i])\n",
    "        \n",
    "#print(dot_name)\n",
    "full_data.append(dot_name)"
   ]
  },
  {
   "cell_type": "code",
   "execution_count": 14,
   "metadata": {},
   "outputs": [],
   "source": [
    "# list for Country\n",
    "\n",
    "cou_df = df['Unnamed: 12']\n",
    "cou_dum = cou_df.values.tolist()\n",
    "cou_name = []\n",
    "\n",
    "for i in range(0,126,25):\n",
    "    cou_name.append(cou_dum[i])\n",
    "        \n",
    "#print(cou_name)\n",
    "full_data.append(cou_name)"
   ]
  },
  {
   "cell_type": "code",
   "execution_count": 15,
   "metadata": {},
   "outputs": [],
   "source": [
    "# List for QNo.\n",
    "qn_final = []\n",
    "qn_df = df['Unnamed: 13']\n",
    "qn_dum = qn_df.values.tolist()\n",
    "qn_per = []\n",
    "\n",
    "for i in range(1,126):\n",
    "    qn_per.append(qn_dum[i])\n",
    "    if i%25==0:\n",
    "        qn_final.append(qn_per)\n",
    "        qn_per = []\n",
    "#print(qn_final)"
   ]
  },
  {
   "cell_type": "code",
   "execution_count": 16,
   "metadata": {},
   "outputs": [],
   "source": [
    "# List for Marked\n",
    "\n",
    "\n",
    "mark_df = df['Unnamed: 14']\n",
    "df['Unnamed: 14'] = df['Unnamed: 14'].fillna('-')\n",
    "\n",
    "\n",
    "mark_final = []\n",
    "#mark_df = df['Unnamed: 14']\n",
    "mark_dum = mark_df.values.tolist()\n",
    "mark_per = []\n",
    "\n",
    "for i in range(1,126):\n",
    "    mark_per.append(mark_dum[i])\n",
    "        \n",
    "    if i%25==0:\n",
    "        mark_final.append(mark_per)\n",
    "        mark_per = []\n",
    "#print(mark_final)"
   ]
  },
  {
   "cell_type": "code",
   "execution_count": 17,
   "metadata": {},
   "outputs": [],
   "source": [
    "# List for crct\n",
    "crct_final = []\n",
    "crct_df = df['Unnamed: 15']\n",
    "crct_dum = crct_df.values.tolist()\n",
    "crct_per = []\n",
    "\n",
    "for i in range(1,126):\n",
    "    crct_per.append(crct_dum[i])\n",
    "    if i%25==0:\n",
    "        crct_final.append(crct_per)\n",
    "        crct_per = []\n",
    "#print(crct_final)"
   ]
  },
  {
   "cell_type": "code",
   "execution_count": 18,
   "metadata": {},
   "outputs": [],
   "source": [
    "# List for otc\n",
    "otc_final = []\n",
    "otc_df = df['Unnamed: 16']\n",
    "otc_dum = otc_df.values.tolist()\n",
    "otc_per = []\n",
    "\n",
    "for i in range(1,126):\n",
    "    otc_per.append(otc_dum[i])\n",
    "    if i%25==0:\n",
    "        otc_final.append(otc_per)\n",
    "        otc_per = []\n",
    "        \n",
    "#print(otc_final)"
   ]
  },
  {
   "cell_type": "code",
   "execution_count": 19,
   "metadata": {},
   "outputs": [],
   "source": [
    "# List for scr\n",
    "scr_final = []\n",
    "scr_df = df['Unnamed: 17']\n",
    "scr_dum = scr_df.values.tolist()\n",
    "scr_per = []\n",
    "\n",
    "for i in range(1,126):\n",
    "    scr_per.append(scr_dum[i])\n",
    "    if i%25==0:\n",
    "        scr_final.append(scr_per)\n",
    "        scr_per = []\n",
    "#print(scr_final)"
   ]
  },
  {
   "cell_type": "code",
   "execution_count": 20,
   "metadata": {},
   "outputs": [
    {
     "name": "stdout",
     "output_type": "stream",
     "text": [
      "[67, 52, 53, 54, 48]\n"
     ]
    }
   ],
   "source": [
    "# List for ysc\n",
    "ysc_final = []\n",
    "ysc_df = df['Unnamed: 18']\n",
    "ysc_dum = ysc_df.values.tolist()\n",
    "ysc_per = []\n",
    "ysc_total = []\n",
    "total = 0\n",
    "\n",
    "for i in range(1,126):\n",
    "    ysc_per.append(ysc_dum[i])\n",
    "    total += int(ysc_dum[i])\n",
    "    if i%25==0:\n",
    "        ysc_final.append(ysc_per)\n",
    "        ysc_total.append(total)\n",
    "        ysc_per = []\n",
    "        total = 0\n",
    "#print(ysc_final)\n",
    "print(ysc_total)"
   ]
  },
  {
   "cell_type": "code",
   "execution_count": 21,
   "metadata": {},
   "outputs": [],
   "source": [
    "# list for res\n",
    "\n",
    "res_df = df['Unnamed: 19']\n",
    "res_dum = res_df.values.tolist()\n",
    "res_name = []\n",
    "\n",
    "for i in range(0,126,25):\n",
    "    res_name.append(res_dum[i])\n",
    "        \n",
    "#print(res_name)\n",
    "full_data.append(res_name)"
   ]
  },
  {
   "cell_type": "code",
   "execution_count": 22,
   "metadata": {},
   "outputs": [],
   "source": [
    "#print(full_data)"
   ]
  },
  {
   "cell_type": "code",
   "execution_count": 23,
   "metadata": {},
   "outputs": [
    {
     "name": "stdout",
     "output_type": "stream",
     "text": [
      "Requirement already satisfied: reportlab in c:\\users\\tarun\\anaconda3\\lib\\site-packages (3.5.68)\n",
      "Requirement already satisfied: pillow>=4.0.0 in c:\\users\\tarun\\anaconda3\\lib\\site-packages (from reportlab) (8.0.1)\n"
     ]
    }
   ],
   "source": [
    "!pip install reportlab"
   ]
  },
  {
   "cell_type": "code",
   "execution_count": 24,
   "metadata": {},
   "outputs": [],
   "source": [
    "from reportlab.pdfgen import canvas\n",
    "from reportlab.pdfbase.ttfonts import TTFont\n",
    "from reportlab.pdfbase import pdfmetrics\n",
    "from reportlab.lib import colors\n",
    "from reportlab.lib.units import mm, cm"
   ]
  },
  {
   "cell_type": "code",
   "execution_count": 25,
   "metadata": {},
   "outputs": [],
   "source": [
    "count = 0\n",
    "for i in range(1,6):\n",
    "    \n",
    "    round_name = str(full_data[0][i])\n",
    "    fir_name = full_data[1][i]\n",
    "    las_name = full_data[2][i]\n",
    "    full_name = full_data[3][i]\n",
    "    reg_num = str(full_data[4][i])\n",
    "    grd = str(full_data[5][i])\n",
    "    scl_name = full_data[6][i]\n",
    "    gen = full_data[7][i]\n",
    "    dob = full_data[8][i]\n",
    "    city = full_data[9][i]\n",
    "    dot = full_data[10][i]\n",
    "    coun = full_data[11][i]\n",
    "    \n",
    "    file_name = full_name\n",
    "    stri = file_name+\".pdf\"\n",
    "    fileName = stri\n",
    "    pdf = canvas.Canvas(fileName)\n",
    "    pdf.drawImage(\"logo.png\", 70,750,4*cm,4*cm)\n",
    "    # setting the title of the document\n",
    "    #pdf.setTitle(documentTitle)\n",
    "   \n",
    "    pdf.setFont('Courier-Bold', 20)\n",
    "    pdf.drawCentredString(300, 800, \"SCORE CARD\")\n",
    "    pdf.setFont('Courier', 16)\n",
    "    pdf.drawCentredString(300, 780, \"PQR CHAMPIONSHIP (ROUND - \"+round_name+\")\")\n",
    "    pdf.line(600,770,0,770)\n",
    "    #drawImage(image, x, y, width=None, height=None, mask=None, preserveAspectRatio=True, anchor='c')\n",
    "    #pdf.drawImage(\"logo.png\", 50,700, width=1, height=1, mask=None, preserveAspectRatio=True)\n",
    "    \n",
    "    pdf.drawString(20, 750, \"First Name           - \")\n",
    "    pdf.drawString(250, 750, fir_name)\n",
    "    pdf.drawString(20, 730, \"Last Name            - \")\n",
    "    pdf.drawString(250, 730, las_name)\n",
    "    pdf.drawString(20, 710, \"Full Name            - \")\n",
    "    pdf.drawString(250, 710, full_name)\n",
    "    pdf.drawString(20, 690, \"Registration Number  - \")\n",
    "    pdf.drawString(250, 690, reg_num)\n",
    "    pdf.drawString(20, 670, \"Grade                - \")\n",
    "    pdf.drawString(250, 670, grd)\n",
    "    pdf.drawImage('Pics of students/'+ full_name +'.png', 420,580,5*cm,5*cm)\n",
    "    pdf.drawString(20, 650, \"School Name          - \")\n",
    "    pdf.drawString(250, 650, scl_name)\n",
    "    pdf.drawString(20, 630, \"Gender               - \")\n",
    "    pdf.drawString(250, 630, gen)\n",
    "    pdf.drawString(20, 610, \"Date of Birth        - \")\n",
    "    pdf.drawString(250, 610, dob)\n",
    "    pdf.drawString(20, 590, \"City of Residence    - \")\n",
    "    pdf.drawString(250, 590, city)\n",
    "    pdf.drawString(20, 570, \"Date and Time of Test- \")\n",
    "    pdf.drawString(250, 570, dot)\n",
    "    pdf.drawString(20, 550, \"Country of Residence - \")\n",
    "    pdf.drawString(250, 550, coun)\n",
    "    pdf.line(600,530,0,530)\n",
    "    \n",
    "    pdf.setFont('Courier-Bold', 10)\n",
    "    pdf.drawString(20,510, 'Q No.   What you marked?    Correct Answer    Outcome    Score if correct    Your Score')\n",
    "    pdf.line(600,490,0,490)\n",
    "    \n",
    "    pdf.setFont('Courier', 10)\n",
    "    for j in range(0,25):\n",
    "        if len(qn_final[i-1][j]) == 2:\n",
    "            if otc_final[i-1][j] == 'Correct':\n",
    "                pdf.drawString(20, 470-15*j , str(qn_final[i-1][j])+\"            \"+str(mark_final[i-1][j])+\"                 \"+str(crct_final[i-1][j])+\"             \"+str(otc_final[i-1][j])+\"            \"+str(scr_final[i-1][j])+\"             \"+str(ysc_final[i-1][j]))\n",
    "            elif otc_final[i-1][j] == 'Unattempted':\n",
    "                pdf.drawString(20, 470-15*j , str(qn_final[i-1][j])+\"            \"+str(mark_final[i-1][j])+\"                 \"+str(crct_final[i-1][j])+\"             \"+str(otc_final[i-1][j])+\"        \"+str(scr_final[i-1][j])+\"             \"+str(ysc_final[i-1][j]))\n",
    "            elif otc_final[i-1][j] == 'Incorrect':\n",
    "                pdf.drawString(20, 470-15*j , str(qn_final[i-1][j])+\"            \"+str(mark_final[i-1][j])+\"                 \"+str(crct_final[i-1][j])+\"             \"+str(otc_final[i-1][j])+\"          \"+str(scr_final[i-1][j])+\"             \"+str(ysc_final[i-1][j]))\n",
    "\n",
    "        elif len(qn_final[i-1][j]) == 3:\n",
    "            if otc_final[i-1][j] == 'Correct':\n",
    "                pdf.drawString(20, 470-15*j , str(qn_final[i-1][j])+\"           \"+str(mark_final[i-1][j])+\"                 \"+str(crct_final[i-1][j])+\"             \"+str(otc_final[i-1][j])+\"            \"+str(scr_final[i-1][j])+\"             \"+str(ysc_final[i-1][j]))\n",
    "            elif otc_final[i-1][j] == 'Unattempted':\n",
    "                pdf.drawString(20, 470-15*j , str(qn_final[i-1][j])+\"           \"+str(mark_final[i-1][j])+\"                 \"+str(crct_final[i-1][j])+\"             \"+str(otc_final[i-1][j])+\"        \"+str(scr_final[i-1][j])+\"             \"+str(ysc_final[i-1][j]))\n",
    "            elif otc_final[i-1][j] == 'Incorrect':\n",
    "                pdf.drawString(20, 470-15*j , str(qn_final[i-1][j])+\"           \"+str(mark_final[i-1][j])+\"                 \"+str(crct_final[i-1][j])+\"             \"+str(otc_final[i-1][j])+\"          \"+str(scr_final[i-1][j])+\"             \"+str(ysc_final[i-1][j]))\n",
    "\n",
    "    pdf.line(600,90,0,90)\n",
    "    \n",
    "    pdf.setFont('Courier-Bold', 12)\n",
    "    pdf.drawString(20, 80, \"The Maximum Marks to Score in the Exam is 100. There are no negative marks.\")\n",
    "    pdf.setFont('Courier', 12)\n",
    "    pdf.drawString(20, 60, \"TOTAL SCORE   -  \"+ str(ysc_total[i-1])+\"/100\")\n",
    "    pdf.drawString(20, 40, \"RESULT        -  \"+ full_data[12][i])\n",
    "    pdf.save()\n",
    "    count+=1"
   ]
  },
  {
   "cell_type": "code",
   "execution_count": null,
   "metadata": {},
   "outputs": [],
   "source": []
  },
  {
   "cell_type": "code",
   "execution_count": null,
   "metadata": {},
   "outputs": [],
   "source": []
  }
 ],
 "metadata": {
  "kernelspec": {
   "display_name": "Python 3",
   "language": "python",
   "name": "python3"
  },
  "language_info": {
   "codemirror_mode": {
    "name": "ipython",
    "version": 3
   },
   "file_extension": ".py",
   "mimetype": "text/x-python",
   "name": "python",
   "nbconvert_exporter": "python",
   "pygments_lexer": "ipython3",
   "version": "3.8.5"
  }
 },
 "nbformat": 4,
 "nbformat_minor": 4
}
